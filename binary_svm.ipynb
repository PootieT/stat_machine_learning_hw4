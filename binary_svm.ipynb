{
 "metadata": {
  "anaconda-cloud": {},
  "kernelspec": {
   "display_name": "Python 2",
   "language": "python",
   "name": "python2"
  },
  "language_info": {
   "codemirror_mode": {
    "name": "ipython",
    "version": 2
   },
   "file_extension": ".py",
   "mimetype": "text/x-python",
   "name": "python",
   "nbconvert_exporter": "python",
   "pygments_lexer": "ipython2",
   "version": "2.7.14"
  },
  "name": "",
  "signature": "sha256:b94bfc2b9e6d5fc9728a7217f3b9a503c28ccfaf821bc662945e8f71ea159d2a"
 },
 "nbformat": 3,
 "nbformat_minor": 0,
 "worksheets": [
  {
   "cells": [
    {
     "cell_type": "markdown",
     "metadata": {},
     "source": [
      "### Support Vector Machines\n",
      "In the first part of this exercise, you will  build  support vector machines\n",
      "(SVMs) for solving  binary classification problems. You will experiment with your\n",
      "classifier on three example 2D datasets. Experimenting with these datasets\n",
      "will help you gain  intuition into how SVMs work and how to use a Gaussian\n",
      "kernel with SVMs. "
     ]
    },
    {
     "cell_type": "code",
     "collapsed": true,
     "input": [
      "import random\n",
      "import numpy as np\n",
      "import matplotlib.pyplot as plt\n",
      "\n",
      "# This is a bit of magic to make matplotlib figures appear inline in the notebook\n",
      "# rather than in a new window.\n",
      "\n",
      "%matplotlib inline\n",
      "plt.rcParams['figure.figsize'] = (10.0, 8.0) # set default size of plots\n",
      "plt.rcParams['image.interpolation'] = 'nearest'\n",
      "plt.rcParams['image.cmap'] = 'gray'\n",
      "\n",
      "# Some more magic so that the notebook will reload external python modules;\n",
      "# see http://stackoverflow.com/questions/1907993/autoreload-of-modules-in-ipython\n",
      "\n",
      "%load_ext autoreload\n",
      "%autoreload 2"
     ],
     "language": "python",
     "metadata": {},
     "outputs": [],
     "prompt_number": 1
    },
    {
     "cell_type": "markdown",
     "metadata": {},
     "source": [
      "### Data set 1\n",
      "We will begin  with a 2D example dataset which can be separated by a\n",
      "linear boundary.  In\n",
      "this dataset, the positions of the positive examples (green circles) and the\n",
      "negative examples (indicated with red circles) suggest a natural separation indicated\n",
      "by the gap. However, notice that there is an outlier positive example  on\n",
      "the far left at about (0.1, 4.1). As part of this exercise, you will also see how\n",
      "this outlier affects the SVM decision boundary."
     ]
    },
    {
     "cell_type": "code",
     "collapsed": true,
     "input": [
      "import linear_svm\n",
      "import utils\n",
      "from sklearn import preprocessing, metrics\n",
      "from linear_classifier import LinearSVM_twoclass\n",
      "\n",
      "############################################################################\n",
      "#  Part  0: Loading and Visualizing Data                                   #\n",
      "#  We start the exercise by first loading and visualizing the dataset.     #\n",
      "#  The following code will load the dataset into your environment and plot #\n",
      "#  the data.                                                               #\n",
      "############################################################################\n",
      "\n",
      "# load ex4data1.mat\n",
      "\n",
      "X,y = utils.load_mat('data/ex4data1.mat')\n",
      "\n",
      "utils.plot_twoclass_data(X,y,'x1', 'x2',['neg','pos'])\n",
      "plt.show()"
     ],
     "language": "python",
     "metadata": {},
     "outputs": [
      {
       "metadata": {},
       "output_type": "display_data",
       "png": "[encoded data removed]",
       "text": [
        "<matplotlib.figure.Figure at 0x7f9be25f7a10>"
       ]
      }
     ],
     "prompt_number": 2
    },
    {
     "cell_type": "markdown",
     "metadata": {},
     "source": [
      "### The hinge loss function and gradient\n",
      "Now you will implement the hinge loss cost function and its gradient for support vector machines.\n",
      "Complete the **binary\\_svm\\_loss** function in **linear\\_svm.py**  to return the cost and gradient for the hinge loss function.\n",
      " Recall that the hinge loss function is\n",
      "$$ J(\\theta) = \\frac{1}{2m} \\sum_{j=0}^{d} {\\theta_j}^2 + \\frac{C}{m} \\sum_{i=1}^{m} max(0, 1 -y^{(i)}h_\\theta(x^{(i)})) $$\n",
      "\n",
      "where $h_{\\theta}(x) = \\theta^ T x$ with $x_0 = 1$.  $C$ is the penalty factor which measures how much misclassifications are penalized. If $y^{(i)}h_\\theta(x^{(i)})) > 1$, then $x^{(i)}$ is correctly classified and the loss associated with that example is zero. If $y^{(i)}h_\\theta(x^{(i)})) < 1$, then $x^{(i)}$ is not within the appropriate margin (positive or negative) and the loss associated with that example is greater than zero. The gradient of the hinge loss\n",
      "function  is a vector of the same length as $\\theta$ where the $j^{th}$ element, $j=0,1,\\ldots,d$ is defined as follows:\n",
      "\n",
      "\\begin{eqnarray*} \\frac{\\partial J(\\theta)}{\\partial \\theta_j}  & = &\n",
      "\\left \\{\n",
      "\\begin{array}{l l}\n",
      "\\frac{1}{m} \\theta_j + \\frac{C}{m} \\sum_{i=1}^{m} -y^{(i)}x_j^{(i)}& \\mbox{ if } y^{(i)}h_\\theta(x^{(i)})) < 1\\\\\n",
      "\\frac{1}{m} \\theta_j & \\mbox{ if } y^{(i)}h_\\theta(x^{(i)})) >= 1\\\\\n",
      "\\end{array} \\right. \n",
      "\\end{eqnarray*}\n",
      "\n",
      "Once you are done, the cell below will call your **binary\\_svm\\_loss** function with a zero vector $\\theta$.\n",
      " You should see that the cost $J$ is 1.0. The gradient of the loss function with respect to an all-zeros $\\theta$ vector is also computed and should be $[-0.12956186 -0.00167647]^T$."
     ]
    },
    {
     "cell_type": "code",
     "collapsed": true,
     "input": [
      "############################################################################\n",
      "#  Part 1: Hinge loss function and gradient                                #\n",
      "############################################################################\n",
      "\n",
      "C = 1\n",
      "theta = np.zeros((X.shape[1],))\n",
      "\n",
      "yy = np.ones(y.shape)\n",
      "yy[y==0] = -1\n",
      "J,grad = linear_svm.binary_svm_loss(theta,X,yy,C)\n",
      "\n",
      "print \"J = \", J, \" grad = \", grad"
     ],
     "language": "python",
     "metadata": {},
     "outputs": [
      {
       "output_type": "stream",
       "stream": "stdout",
       "text": [
        "J =  1.0  grad =  [-0.12956186 -0.00167647]\n"
       ]
      }
     ],
     "prompt_number": 40
    },
    {
     "cell_type": "markdown",
     "metadata": {},
     "source": [
      "### Impact of varying C\n",
      "In this part of the exercise, you will try using different values of the C\n",
      "parameter with SVMs. Informally, the C parameter is a positive value that\n",
      "controls the penalty for misclassified training examples. A large C parameter\n",
      "tells the SVM to try to classify all the examples correctly. C plays a role\n",
      "similar to $\\frac{1}{\\lambda}$, where $\\lambda$ is the regularization parameter that we were using\n",
      "previously for logistic regression.\n",
      "\n",
      "The SVM training function is in **linear\\_classifier.py** -- this is a gradient descent algorithm that uses your loss and gradient functions. \n",
      "The cell below will train an SVM on the example data set 1 with C = 1. It first scales the data to have zero mean and unit variance, and adds the intercept term to the data matrix.\n",
      "When C = 1, you should find that the SVM puts the decision boundary in\n",
      "the gap between the two datasets and misclassifies the data point on the far\n",
      "left. \n",
      "\n",
      "Your task is to try different values of C on this dataset. Specifically, you\n",
      "should change the value of C in the cell below to C = 100 and run the SVM\n",
      "training again. When C = 100, you should find that the SVM now classifies\n",
      "every single example correctly, but has a decision boundary that does not\n",
      "appear to be a natural fit for the data. Include a plot of the decision boundary for C = 100 in writeup.pdf."
     ]
    },
    {
     "cell_type": "code",
     "collapsed": true,
     "input": [
      "############################################################################\n",
      "# Scale the data and set up the SVM training                               #\n",
      "############################################################################\n",
      "\n",
      "# scale the data\n",
      "\n",
      "scaler = preprocessing.StandardScaler().fit(X)\n",
      "scaleX = scaler.transform(X)\n",
      "\n",
      "# add an intercept term and convert y values from [0,1] to [-1,1]\n",
      "\n",
      "XX = np.array([(1,x1,x2) for (x1,x2) in scaleX])\n",
      "yy = np.ones(y.shape)\n",
      "yy[y == 0] = -1\n",
      "yy[y == 0] = -1\n",
      "\n",
      "############################################################################\n",
      "#  Part  2: Training linear SVM                                            #\n",
      "#  We train a linear SVM on the data set and the plot the learned          #\n",
      "#  decision boundary                                                       #\n",
      "############################################################################\n",
      "\n",
      "############################################################################\n",
      "# You will change this line below to vary C.                               #\n",
      "############################################################################\n",
      "\n",
      "C = 100\n",
      "\n",
      "svm = LinearSVM_twoclass()\n",
      "svm.theta = np.zeros((XX.shape[1],))\n",
      "svm.train(XX,yy,learning_rate=1e-4,reg=C,num_iters=50000,verbose=True,batch_size=XX.shape[0])\n",
      "\n",
      "# classify the training data\n",
      "\n",
      "y_pred = svm.predict(XX)\n",
      "\n",
      "print \"Accuracy on training data = \", metrics.accuracy_score(yy,y_pred)\n",
      "\n",
      "# visualize the decision boundary\n",
      "\n",
      "utils.plot_decision_boundary(scaleX,y,svm,'x1','x2',['neg','pos'])"
     ],
     "language": "python",
     "metadata": {},
     "outputs": [
      {
       "output_type": "stream",
       "stream": "stdout",
       "text": [
        "iteration 0 / 50000: loss 100.000000\n",
        "iteration 100 / 50000: loss 30.579623\n",
        "iteration 200 / 50000: loss 21.214961\n",
        "iteration 300 / 50000: loss 16.862497\n",
        "iteration 400 / 50000: loss 14.336490\n",
        "iteration 500 / 50000: loss 12.438572\n",
        "iteration 600 / 50000: loss 11.501786\n",
        "iteration 700 / 50000: loss 11.104930\n",
        "iteration 800 / 50000: loss 10.716974\n",
        "iteration 900 / 50000: loss 10.329018\n",
        "iteration 1000 / 50000: loss 9.941062\n",
        "iteration 1100 / 50000: loss 9.553106\n",
        "iteration 1200 / 50000: loss 9.165151"
       ]
      },
      {
       "output_type": "stream",
       "stream": "stdout",
       "text": [
        "\n",
        "iteration 1300 / 50000: loss 8.796742\n",
        "iteration 1400 / 50000: loss 8.452387\n",
        "iteration 1500 / 50000: loss 8.214339\n",
        "iteration 1600 / 50000: loss 7.985006\n",
        "iteration 1700 / 50000: loss 7.758493\n",
        "iteration 1800 / 50000: loss 7.539752\n",
        "iteration 1900 / 50000: loss 7.360966\n",
        "iteration 2000 / 50000: loss 7.232428\n",
        "iteration 2100 / 50000: loss 7.103930"
       ]
      },
      {
       "output_type": "stream",
       "stream": "stdout",
       "text": [
        "\n",
        "iteration 2200 / 50000: loss 6.984326\n",
        "iteration 2300 / 50000: loss 6.927028\n",
        "iteration 2400 / 50000: loss 6.869729\n",
        "iteration 2500 / 50000: loss 6.812431\n",
        "iteration 2600 / 50000: loss 6.755286\n",
        "iteration 2700 / 50000: loss 6.705017\n",
        "iteration 2800 / 50000: loss 6.665408\n",
        "iteration 2900 / 50000: loss 6.625982\n",
        "iteration 3000 / 50000: loss 6.586264\n",
        "iteration 3100 / 50000: loss 6.546705\n",
        "iteration 3200 / 50000: loss 6.506973\n",
        "iteration 3300 / 50000: loss 6.467418"
       ]
      },
      {
       "output_type": "stream",
       "stream": "stdout",
       "text": [
        "\n",
        "iteration 3400 / 50000: loss 6.427895\n",
        "iteration 3500 / 50000: loss 6.388386\n",
        "iteration 3600 / 50000: loss 6.348662\n",
        "iteration 3700 / 50000: loss 6.309049\n",
        "iteration 3800 / 50000: loss 6.269491\n",
        "iteration 3900 / 50000: loss 6.230084\n",
        "iteration 4000 / 50000: loss 6.190350\n",
        "iteration 4100 / 50000: loss 6.150904\n",
        "iteration 4200 / 50000: loss 6.111172\n",
        "iteration 4300 / 50000: loss 6.071782\n",
        "iteration 4400 / 50000: loss 6.032039\n",
        "iteration 4500 / 50000: loss 5.992552\n",
        "iteration 4600 / 50000: loss 5.952860"
       ]
      },
      {
       "output_type": "stream",
       "stream": "stdout",
       "text": [
        "\n",
        "iteration 4700 / 50000: loss 5.913480\n",
        "iteration 4800 / 50000: loss 5.873706\n",
        "iteration 4900 / 50000: loss 5.834187\n",
        "iteration 5000 / 50000: loss 5.794549\n",
        "iteration 5100 / 50000: loss 5.754860\n",
        "iteration 5200 / 50000: loss 5.717330\n",
        "iteration 5300 / 50000: loss 5.688445\n",
        "iteration 5400 / 50000: loss 5.659821\n",
        "iteration 5500 / 50000: loss 5.631089\n",
        "iteration 5600 / 50000: loss 5.602584\n",
        "iteration 5700 / 50000: loss 5.573519\n",
        "iteration 5800 / 50000: loss 5.544847\n",
        "iteration 5900 / 50000: loss 5.516343"
       ]
      },
      {
       "output_type": "stream",
       "stream": "stdout",
       "text": [
        "\n",
        "iteration 6000 / 50000: loss 5.487393\n",
        "iteration 6100 / 50000: loss 5.458605\n",
        "iteration 6200 / 50000: loss 5.429825\n",
        "iteration 6300 / 50000: loss 5.401321\n",
        "iteration 6400 / 50000: loss 5.372624\n",
        "iteration 6500 / 50000: loss 5.343584\n",
        "iteration 6600 / 50000: loss 5.315065\n",
        "iteration 6700 / 50000: loss 5.286299\n",
        "iteration 6800 / 50000: loss 5.257411\n",
        "iteration 6900 / 50000: loss 5.228672\n",
        "iteration 7000 / 50000: loss 5.200057\n",
        "iteration 7100 / 50000: loss 5.171553\n",
        "iteration 7200 / 50000: loss 5.142409"
       ]
      },
      {
       "output_type": "stream",
       "stream": "stdout",
       "text": [
        "\n",
        "iteration 7300 / 50000: loss 5.113816\n",
        "iteration 7400 / 50000: loss 5.085035\n",
        "iteration 7500 / 50000: loss 5.056360\n",
        "iteration 7600 / 50000: loss 5.027674\n",
        "iteration 7700 / 50000: loss 4.998794\n",
        "iteration 7800 / 50000: loss 4.970289\n",
        "iteration 7900 / 50000: loss 4.941473\n",
        "iteration 8000 / 50000: loss 4.912552\n",
        "iteration 8100 / 50000: loss 4.883916\n",
        "iteration 8200 / 50000: loss 4.855267\n",
        "iteration 8300 / 50000: loss 4.826378\n",
        "iteration 8400 / 50000: loss 4.797530"
       ]
      },
      {
       "output_type": "stream",
       "stream": "stdout",
       "text": [
        "\n",
        "iteration 8500 / 50000: loss 4.774851\n",
        "iteration 8600 / 50000: loss 4.761703\n",
        "iteration 8700 / 50000: loss 4.748555\n",
        "iteration 8800 / 50000: loss 4.735407\n",
        "iteration 8900 / 50000: loss 4.722259\n",
        "iteration 9000 / 50000: loss 4.709112\n",
        "iteration 9100 / 50000: loss 4.695964\n",
        "iteration 9200 / 50000: loss 4.682816\n",
        "iteration 9300 / 50000: loss 4.669668\n",
        "iteration 9400 / 50000: loss 4.656520\n",
        "iteration 9500 / 50000: loss 4.643372\n",
        "iteration 9600 / 50000: loss 4.630225\n",
        "iteration 9700 / 50000: loss 4.617077"
       ]
      },
      {
       "output_type": "stream",
       "stream": "stdout",
       "text": [
        "\n",
        "iteration 9800 / 50000: loss 4.603929\n",
        "iteration 9900 / 50000: loss 4.592473\n",
        "iteration 10000 / 50000: loss 4.581076\n",
        "iteration 10100 / 50000: loss 4.569743\n",
        "iteration 10200 / 50000: loss 4.558509\n",
        "iteration 10300 / 50000: loss 4.547030\n",
        "iteration 10400 / 50000: loss 4.535657\n",
        "iteration 10500 / 50000: loss 4.524288\n",
        "iteration 10600 / 50000: loss 4.512919\n",
        "iteration 10700 / 50000: loss 4.501483\n",
        "iteration 10800 / 50000: loss 4.490066\n",
        "iteration 10900 / 50000: loss 4.478698\n",
        "iteration 11000 / 50000: loss 4.467329"
       ]
      },
      {
       "output_type": "stream",
       "stream": "stdout",
       "text": [
        "\n",
        "iteration 11100 / 50000: loss 4.455935\n",
        "iteration 11200 / 50000: loss 4.444561\n",
        "iteration 11300 / 50000: loss 4.433278\n",
        "iteration 11400 / 50000: loss 4.421909\n",
        "iteration 11500 / 50000: loss 4.410492\n",
        "iteration 11600 / 50000: loss 4.399056\n",
        "iteration 11700 / 50000: loss 4.387687\n",
        "iteration 11800 / 50000: loss 4.376319\n",
        "iteration 11900 / 50000: loss 4.364944\n",
        "iteration 12000 / 50000: loss 4.353466\n",
        "iteration 12100 / 50000: loss 4.342097\n",
        "iteration 12200 / 50000: loss 4.330728\n",
        "iteration 12300 / 50000: loss 4.319427"
       ]
      },
      {
       "output_type": "stream",
       "stream": "stdout",
       "text": [
        "\n",
        "iteration 12400 / 50000: loss 4.308046\n",
        "iteration 12500 / 50000: loss 4.296677\n",
        "iteration 12600 / 50000: loss 4.285309\n",
        "iteration 12700 / 50000: loss 4.273940\n",
        "iteration 12800 / 50000: loss 4.262456\n",
        "iteration 12900 / 50000: loss 4.251087\n",
        "iteration 13000 / 50000: loss 4.239718\n",
        "iteration 13100 / 50000: loss 4.228349\n",
        "iteration 13200 / 50000: loss 4.216890\n",
        "iteration 13300 / 50000: loss 4.205517\n",
        "iteration 13400 / 50000: loss 4.194245\n",
        "iteration 13500 / 50000: loss 4.182930\n",
        "iteration 13600 / 50000: loss 4.171446"
       ]
      },
      {
       "output_type": "stream",
       "stream": "stdout",
       "text": [
        "\n",
        "iteration 13700 / 50000: loss 4.160077\n",
        "iteration 13800 / 50000: loss 4.148708\n",
        "iteration 13900 / 50000: loss 4.137339\n",
        "iteration 14000 / 50000: loss 4.125899\n",
        "iteration 14100 / 50000: loss 4.114487\n",
        "iteration 14200 / 50000: loss 4.103118\n",
        "iteration 14300 / 50000: loss 4.091749\n",
        "iteration 14400 / 50000: loss 4.080420\n",
        "iteration 14500 / 50000: loss 4.069062\n",
        "iteration 14600 / 50000: loss 4.057698\n",
        "iteration 14700 / 50000: loss 4.046329"
       ]
      },
      {
       "output_type": "stream",
       "stream": "stdout",
       "text": [
        "\n",
        "iteration 14800 / 50000: loss 4.034908\n",
        "iteration 14900 / 50000: loss 4.023477\n",
        "iteration 15000 / 50000: loss 4.012108\n",
        "iteration 15100 / 50000: loss 4.000739\n",
        "iteration 15200 / 50000: loss 3.990841\n",
        "iteration 15300 / 50000: loss 3.983445\n",
        "iteration 15400 / 50000: loss 3.976167\n",
        "iteration 15500 / 50000: loss 3.968738\n",
        "iteration 15600 / 50000: loss 3.961460\n",
        "iteration 15700 / 50000: loss 3.954031\n",
        "iteration 15800 / 50000: loss 3.946753\n",
        "iteration 15900 / 50000: loss 3.939324\n",
        "iteration 16000 / 50000: loss 3.932046"
       ]
      },
      {
       "output_type": "stream",
       "stream": "stdout",
       "text": [
        "\n",
        "iteration 16100 / 50000: loss 3.924617\n",
        "iteration 16200 / 50000: loss 3.917339\n",
        "iteration 16300 / 50000: loss 3.909910\n",
        "iteration 16400 / 50000: loss 3.902633\n",
        "iteration 16500 / 50000: loss 3.895203\n",
        "iteration 16600 / 50000: loss 3.887926\n",
        "iteration 16700 / 50000: loss 3.880496\n",
        "iteration 16800 / 50000: loss 3.873219\n",
        "iteration 16900 / 50000: loss 3.865789\n",
        "iteration 17000 / 50000: loss 3.858512\n",
        "iteration 17100 / 50000: loss 3.851082\n",
        "iteration 17200 / 50000: loss 3.843805\n",
        "iteration 17300 / 50000: loss 3.836375"
       ]
      },
      {
       "output_type": "stream",
       "stream": "stdout",
       "text": [
        "\n",
        "iteration 17400 / 50000: loss 3.829098\n",
        "iteration 17500 / 50000: loss 3.821668\n",
        "iteration 17600 / 50000: loss 3.814391\n",
        "iteration 17700 / 50000: loss 3.806961\n",
        "iteration 17800 / 50000: loss 3.799684\n",
        "iteration 17900 / 50000: loss 3.792254\n",
        "iteration 18000 / 50000: loss 3.784977\n",
        "iteration 18100 / 50000: loss 3.777548\n",
        "iteration 18200 / 50000: loss 3.770270\n",
        "iteration 18300 / 50000: loss 3.762841\n",
        "iteration 18400 / 50000: loss 3.755563\n",
        "iteration 18500 / 50000: loss 3.748134\n",
        "iteration 18600 / 50000: loss 3.740856"
       ]
      },
      {
       "output_type": "stream",
       "stream": "stdout",
       "text": [
        "\n",
        "iteration 18700 / 50000: loss 3.733427\n",
        "iteration 18800 / 50000: loss 3.726149\n",
        "iteration 18900 / 50000: loss 3.718720\n",
        "iteration 19000 / 50000: loss 3.711442\n",
        "iteration 19100 / 50000: loss 3.704013\n",
        "iteration 19200 / 50000: loss 3.696735\n",
        "iteration 19300 / 50000: loss 3.689306\n",
        "iteration 19400 / 50000: loss 3.682028\n",
        "iteration 19500 / 50000: loss 3.674599\n",
        "iteration 19600 / 50000: loss 3.667321\n",
        "iteration 19700 / 50000: loss 3.659892\n",
        "iteration 19800 / 50000: loss 3.652615"
       ]
      },
      {
       "output_type": "stream",
       "stream": "stdout",
       "text": [
        "\n",
        "iteration 19900 / 50000: loss 3.645185\n",
        "iteration 20000 / 50000: loss 3.637908\n",
        "iteration 20100 / 50000: loss 3.630478\n",
        "iteration 20200 / 50000: loss 3.623201\n",
        "iteration 20300 / 50000: loss 3.615771\n",
        "iteration 20400 / 50000: loss 3.608494\n",
        "iteration 20500 / 50000: loss 3.601064\n",
        "iteration 20600 / 50000: loss 3.593787\n",
        "iteration 20700 / 50000: loss 3.586357\n",
        "iteration 20800 / 50000: loss 3.579080\n",
        "iteration 20900 / 50000: loss 3.571650\n",
        "iteration 21000 / 50000: loss 3.564373\n",
        "iteration 21100 / 50000: loss 3.556943\n",
        "iteration 21200 / 50000: loss 3.549666"
       ]
      },
      {
       "output_type": "stream",
       "stream": "stdout",
       "text": [
        "\n",
        "iteration 21300 / 50000: loss 3.542237\n",
        "iteration 21400 / 50000: loss 3.534959\n",
        "iteration 21500 / 50000: loss 3.527530\n",
        "iteration 21600 / 50000: loss 3.520252\n",
        "iteration 21700 / 50000: loss 3.512823\n",
        "iteration 21800 / 50000: loss 3.505553\n",
        "iteration 21900 / 50000: loss 3.498464\n",
        "iteration 22000 / 50000: loss 3.491504\n",
        "iteration 22100 / 50000: loss 3.484403\n",
        "iteration 22200 / 50000: loss 3.477222\n",
        "iteration 22300 / 50000: loss 3.470273"
       ]
      },
      {
       "output_type": "stream",
       "stream": "stdout",
       "text": [
        "\n",
        "iteration 22400 / 50000: loss 3.463173\n",
        "iteration 22500 / 50000: loss 3.456072\n",
        "iteration 22600 / 50000: loss 3.449043\n",
        "iteration 22700 / 50000: loss 3.441942\n",
        "iteration 22800 / 50000: loss 3.434842\n",
        "iteration 22900 / 50000: loss 3.427741\n",
        "iteration 23000 / 50000: loss 3.420792\n",
        "iteration 23100 / 50000: loss 3.413611\n",
        "iteration 23200 / 50000: loss 3.406511\n",
        "iteration 23300 / 50000: loss 3.399636\n",
        "iteration 23400 / 50000: loss 3.393070\n",
        "iteration 23500 / 50000: loss 3.386477"
       ]
      },
      {
       "output_type": "stream",
       "stream": "stdout",
       "text": [
        "\n",
        "iteration 23600 / 50000: loss 3.379884\n",
        "iteration 23700 / 50000: loss 3.373454\n",
        "iteration 23800 / 50000: loss 3.366852\n",
        "iteration 23900 / 50000: loss 3.360251\n",
        "iteration 24000 / 50000: loss 3.353650\n",
        "iteration 24100 / 50000: loss 3.347124\n",
        "iteration 24200 / 50000: loss 3.340531\n",
        "iteration 24300 / 50000: loss 3.333964\n",
        "iteration 24400 / 50000: loss 3.327554\n",
        "iteration 24500 / 50000: loss 3.320778\n",
        "iteration 24600 / 50000: loss 3.314205"
       ]
      },
      {
       "output_type": "stream",
       "stream": "stdout",
       "text": [
        "\n",
        "iteration 24700 / 50000: loss 3.307619\n",
        "iteration 24800 / 50000: loss 3.301025\n",
        "iteration 24900 / 50000: loss 3.294432\n",
        "iteration 25000 / 50000: loss 3.287866\n",
        "iteration 25100 / 50000: loss 3.281273\n",
        "iteration 25200 / 50000: loss 3.274680\n",
        "iteration 25300 / 50000: loss 3.268086\n",
        "iteration 25400 / 50000: loss 3.261520\n",
        "iteration 25500 / 50000: loss 3.254927\n",
        "iteration 25600 / 50000: loss 3.248334\n",
        "iteration 25700 / 50000: loss 3.241766\n",
        "iteration 25800 / 50000: loss 3.235228"
       ]
      },
      {
       "output_type": "stream",
       "stream": "stdout",
       "text": [
        "\n",
        "iteration 25900 / 50000: loss 3.228627\n",
        "iteration 26000 / 50000: loss 3.222026\n",
        "iteration 26100 / 50000: loss 3.215574\n",
        "iteration 26200 / 50000: loss 3.208981\n",
        "iteration 26300 / 50000: loss 3.202480\n",
        "iteration 26400 / 50000: loss 3.196001\n",
        "iteration 26500 / 50000: loss 3.189228\n",
        "iteration 26600 / 50000: loss 3.182653\n",
        "iteration 26700 / 50000: loss 3.176069\n",
        "iteration 26800 / 50000: loss 3.169475\n",
        "iteration 26900 / 50000: loss 3.162882\n",
        "iteration 27000 / 50000: loss 3.156316\n",
        "iteration 27100 / 50000: loss 3.149723\n",
        "iteration 27200 / 50000: loss 3.143130"
       ]
      },
      {
       "output_type": "stream",
       "stream": "stdout",
       "text": [
        "\n",
        "iteration 27300 / 50000: loss 3.136536\n",
        "iteration 27400 / 50000: loss 3.129970\n",
        "iteration 27500 / 50000: loss 3.123377\n",
        "iteration 27600 / 50000: loss 3.116784\n",
        "iteration 27700 / 50000: loss 3.110213\n",
        "iteration 27800 / 50000: loss 3.103624\n",
        "iteration 27900 / 50000: loss 3.097031\n",
        "iteration 28000 / 50000: loss 3.090438\n",
        "iteration 28100 / 50000: loss 3.084024\n",
        "iteration 28200 / 50000: loss 3.077430\n",
        "iteration 28300 / 50000: loss 3.070927\n",
        "iteration 28400 / 50000: loss 3.064241\n",
        "iteration 28500 / 50000: loss 3.057678"
       ]
      },
      {
       "output_type": "stream",
       "stream": "stdout",
       "text": [
        "\n",
        "iteration 28600 / 50000: loss 3.051100\n",
        "iteration 28700 / 50000: loss 3.044519\n",
        "iteration 28800 / 50000: loss 3.037925\n",
        "iteration 28900 / 50000: loss 3.031332\n",
        "iteration 29000 / 50000: loss 3.024766\n",
        "iteration 29100 / 50000: loss 3.018173\n",
        "iteration 29200 / 50000: loss 3.011579\n",
        "iteration 29300 / 50000: loss 3.004986\n",
        "iteration 29400 / 50000: loss 2.998420\n",
        "iteration 29500 / 50000: loss 2.991827\n",
        "iteration 29600 / 50000: loss 2.985234\n",
        "iteration 29700 / 50000: loss 2.978661"
       ]
      },
      {
       "output_type": "stream",
       "stream": "stdout",
       "text": [
        "\n",
        "iteration 29800 / 50000: loss 2.972074\n",
        "iteration 29900 / 50000: loss 2.965481\n",
        "iteration 30000 / 50000: loss 2.958888\n",
        "iteration 30100 / 50000: loss 2.952421\n",
        "iteration 30200 / 50000: loss 2.945819\n",
        "iteration 30300 / 50000: loss 2.939218\n",
        "iteration 30400 / 50000: loss 2.932617\n",
        "iteration 30500 / 50000: loss 2.926128\n",
        "iteration 30600 / 50000: loss 2.919547\n",
        "iteration 30700 / 50000: loss 2.913069\n",
        "iteration 30800 / 50000: loss 2.906590\n",
        "iteration 30900 / 50000: loss 2.899782"
       ]
      },
      {
       "output_type": "stream",
       "stream": "stdout",
       "text": [
        "\n",
        "iteration 31000 / 50000: loss 2.893216\n",
        "iteration 31100 / 50000: loss 2.886623\n",
        "iteration 31200 / 50000: loss 2.880029\n",
        "iteration 31300 / 50000: loss 2.873436\n",
        "iteration 31400 / 50000: loss 2.866870\n",
        "iteration 31500 / 50000: loss 2.860277\n",
        "iteration 31600 / 50000: loss 2.853684\n",
        "iteration 31700 / 50000: loss 2.847108\n",
        "iteration 31800 / 50000: loss 2.840524\n",
        "iteration 31900 / 50000: loss 2.833931\n",
        "iteration 32000 / 50000: loss 2.827338\n",
        "iteration 32100 / 50000: loss 2.820797\n",
        "iteration 32200 / 50000: loss 2.814195"
       ]
      },
      {
       "output_type": "stream",
       "stream": "stdout",
       "text": [
        "\n",
        "iteration 32300 / 50000: loss 2.807594\n",
        "iteration 32400 / 50000: loss 2.800993\n",
        "iteration 32500 / 50000: loss 2.794578\n",
        "iteration 32600 / 50000: loss 2.787995\n",
        "iteration 32700 / 50000: loss 2.781516\n",
        "iteration 32800 / 50000: loss 2.775038\n",
        "iteration 32900 / 50000: loss 2.768232\n",
        "iteration 33000 / 50000: loss 2.761666\n",
        "iteration 33100 / 50000: loss 2.755073\n",
        "iteration 33200 / 50000: loss 2.748479\n",
        "iteration 33300 / 50000: loss 2.741886\n",
        "iteration 33400 / 50000: loss 2.735320\n",
        "iteration 33500 / 50000: loss 2.728727"
       ]
      },
      {
       "output_type": "stream",
       "stream": "stdout",
       "text": [
        "\n",
        "iteration 33600 / 50000: loss 2.722134\n",
        "iteration 33700 / 50000: loss 2.715556\n",
        "iteration 33800 / 50000: loss 2.708974\n",
        "iteration 33900 / 50000: loss 2.702381\n",
        "iteration 34000 / 50000: loss 2.695788\n",
        "iteration 34100 / 50000: loss 2.689222\n",
        "iteration 34200 / 50000: loss 2.682628\n",
        "iteration 34300 / 50000: loss 2.676035\n",
        "iteration 34400 / 50000: loss 2.669442\n",
        "iteration 34500 / 50000: loss 2.663012\n",
        "iteration 34600 / 50000: loss 2.656411"
       ]
      },
      {
       "output_type": "stream",
       "stream": "stdout",
       "text": [
        "\n",
        "iteration 34700 / 50000: loss 2.649809\n",
        "iteration 34800 / 50000: loss 2.643228\n",
        "iteration 34900 / 50000: loss 2.636682\n",
        "iteration 35000 / 50000: loss 2.630116\n",
        "iteration 35100 / 50000: loss 2.623523\n",
        "iteration 35200 / 50000: loss 2.616929\n",
        "iteration 35300 / 50000: loss 2.610336\n",
        "iteration 35400 / 50000: loss 2.603770\n",
        "iteration 35500 / 50000: loss 2.597177\n",
        "iteration 35600 / 50000: loss 2.590584\n",
        "iteration 35700 / 50000: loss 2.584003"
       ]
      },
      {
       "output_type": "stream",
       "stream": "stdout",
       "text": [
        "\n",
        "iteration 35800 / 50000: loss 2.577424\n",
        "iteration 35900 / 50000: loss 2.570831\n",
        "iteration 36000 / 50000: loss 2.564238\n",
        "iteration 36100 / 50000: loss 2.557672\n",
        "iteration 36200 / 50000: loss 2.551078\n",
        "iteration 36300 / 50000: loss 2.544485\n",
        "iteration 36400 / 50000: loss 2.537892\n",
        "iteration 36500 / 50000: loss 2.531388\n",
        "iteration 36600 / 50000: loss 2.524787"
       ]
      },
      {
       "output_type": "stream",
       "stream": "stdout",
       "text": [
        "\n",
        "iteration 36700 / 50000: loss 2.518185\n",
        "iteration 36800 / 50000: loss 2.511602\n",
        "iteration 36900 / 50000: loss 2.505132\n",
        "iteration 37000 / 50000: loss 2.498584\n",
        "iteration 37100 / 50000: loss 2.492105\n",
        "iteration 37200 / 50000: loss 2.485379\n",
        "iteration 37300 / 50000: loss 2.478786\n",
        "iteration 37400 / 50000: loss 2.472220\n",
        "iteration 37500 / 50000: loss 2.465627"
       ]
      },
      {
       "output_type": "stream",
       "stream": "stdout",
       "text": [
        "\n",
        "iteration 37600 / 50000: loss 2.459034\n",
        "iteration 37700 / 50000: loss 2.452451\n",
        "iteration 37800 / 50000: loss 2.445874\n",
        "iteration 37900 / 50000: loss 2.439281\n",
        "iteration 38000 / 50000: loss 2.432688\n",
        "iteration 38100 / 50000: loss 2.426122\n",
        "iteration 38200 / 50000: loss 2.419528\n",
        "iteration 38300 / 50000: loss 2.412935\n",
        "iteration 38400 / 50000: loss 2.406342\n",
        "iteration 38500 / 50000: loss 2.399776"
       ]
      },
      {
       "output_type": "stream",
       "stream": "stdout",
       "text": [
        "\n",
        "iteration 38600 / 50000: loss 2.393183\n",
        "iteration 38700 / 50000: loss 2.386589\n",
        "iteration 38800 / 50000: loss 2.380011\n",
        "iteration 38900 / 50000: loss 2.373582\n",
        "iteration 39000 / 50000: loss 2.367031\n",
        "iteration 39100 / 50000: loss 2.360553\n",
        "iteration 39200 / 50000: loss 2.353829\n",
        "iteration 39300 / 50000: loss 2.347236\n",
        "iteration 39400 / 50000: loss 2.340670\n",
        "iteration 39500 / 50000: loss 2.334077\n",
        "iteration 39600 / 50000: loss 2.327483\n",
        "iteration 39700 / 50000: loss 2.320898"
       ]
      },
      {
       "output_type": "stream",
       "stream": "stdout",
       "text": [
        "\n",
        "iteration 39800 / 50000: loss 2.314324\n",
        "iteration 39900 / 50000: loss 2.307731\n",
        "iteration 40000 / 50000: loss 2.301138\n",
        "iteration 40100 / 50000: loss 2.294572\n",
        "iteration 40200 / 50000: loss 2.287978\n",
        "iteration 40300 / 50000: loss 2.281385\n",
        "iteration 40400 / 50000: loss 2.274792\n",
        "iteration 40500 / 50000: loss 2.268226\n",
        "iteration 40600 / 50000: loss 2.261632\n",
        "iteration 40700 / 50000: loss 2.255039\n",
        "iteration 40800 / 50000: loss 2.248459\n",
        "iteration 40900 / 50000: loss 2.241979"
       ]
      },
      {
       "output_type": "stream",
       "stream": "stdout",
       "text": [
        "\n",
        "iteration 41000 / 50000: loss 2.235378\n",
        "iteration 41100 / 50000: loss 2.228776\n",
        "iteration 41200 / 50000: loss 2.222419\n",
        "iteration 41300 / 50000: loss 2.215686\n",
        "iteration 41400 / 50000: loss 2.209173\n",
        "iteration 41500 / 50000: loss 2.202694\n",
        "iteration 41600 / 50000: loss 2.195933\n",
        "iteration 41700 / 50000: loss 2.189346\n",
        "iteration 41800 / 50000: loss 2.182774\n",
        "iteration 41900 / 50000: loss 2.176181\n",
        "iteration 42000 / 50000: loss 2.169588\n",
        "iteration 42100 / 50000: loss 2.163022\n",
        "iteration 42200 / 50000: loss 2.156428"
       ]
      },
      {
       "output_type": "stream",
       "stream": "stdout",
       "text": [
        "\n",
        "iteration 42300 / 50000: loss 2.149835\n",
        "iteration 42400 / 50000: loss 2.143242\n",
        "iteration 42500 / 50000: loss 2.136676\n",
        "iteration 42600 / 50000: loss 2.130082\n",
        "iteration 42700 / 50000: loss 2.123489\n",
        "iteration 42800 / 50000: loss 2.116906\n",
        "iteration 42900 / 50000: loss 2.110355\n",
        "iteration 43000 / 50000: loss 2.103754\n",
        "iteration 43100 / 50000: loss 2.097152\n",
        "iteration 43200 / 50000: loss 2.090795\n",
        "iteration 43300 / 50000: loss 2.084136\n",
        "iteration 43400 / 50000: loss 2.077620"
       ]
      },
      {
       "output_type": "stream",
       "stream": "stdout",
       "text": [
        "\n",
        "iteration 43500 / 50000: loss 2.071142\n",
        "iteration 43600 / 50000: loss 2.064383\n",
        "iteration 43700 / 50000: loss 2.057793\n",
        "iteration 43800 / 50000: loss 2.051224\n",
        "iteration 43900 / 50000: loss 2.044631\n",
        "iteration 44000 / 50000: loss 2.038038\n",
        "iteration 44100 / 50000: loss 2.031471\n",
        "iteration 44200 / 50000: loss 2.024878\n",
        "iteration 44300 / 50000: loss 2.018285"
       ]
      },
      {
       "output_type": "stream",
       "stream": "stdout",
       "text": [
        "\n",
        "iteration 44400 / 50000: loss 2.011692\n",
        "iteration 44500 / 50000: loss 2.005126\n",
        "iteration 44600 / 50000: loss 1.998532\n",
        "iteration 44700 / 50000: loss 1.991939\n",
        "iteration 44800 / 50000: loss 1.985354\n",
        "iteration 44900 / 50000: loss 1.978780\n",
        "iteration 45000 / 50000: loss 1.972187\n",
        "iteration 45100 / 50000: loss 1.965593\n",
        "iteration 45200 / 50000: loss 1.959171\n",
        "iteration 45300 / 50000: loss 1.952570\n",
        "iteration 45400 / 50000: loss 1.945969\n",
        "iteration 45500 / 50000: loss 1.939368"
       ]
      },
      {
       "output_type": "stream",
       "stream": "stdout",
       "text": [
        "\n",
        "iteration 45600 / 50000: loss 1.932833\n",
        "iteration 45700 / 50000: loss 1.926241\n",
        "iteration 45800 / 50000: loss 1.919674\n",
        "iteration 45900 / 50000: loss 1.913081\n",
        "iteration 46000 / 50000: loss 1.906488\n",
        "iteration 46100 / 50000: loss 1.899921\n",
        "iteration 46200 / 50000: loss 1.893328\n",
        "iteration 46300 / 50000: loss 1.886735\n",
        "iteration 46400 / 50000: loss 1.880142"
       ]
      },
      {
       "output_type": "stream",
       "stream": "stdout",
       "text": [
        "\n",
        "iteration 46500 / 50000: loss 1.873576\n",
        "iteration 46600 / 50000: loss 1.866982\n",
        "iteration 46700 / 50000: loss 1.860389\n",
        "iteration 46800 / 50000: loss 1.853801\n",
        "iteration 46900 / 50000: loss 1.847230\n",
        "iteration 47000 / 50000: loss 1.840637\n",
        "iteration 47100 / 50000: loss 1.834043\n",
        "iteration 47200 / 50000: loss 1.827547\n",
        "iteration 47300 / 50000: loss 1.820946\n",
        "iteration 47400 / 50000: loss 1.814345\n",
        "iteration 47500 / 50000: loss 1.807743\n",
        "iteration 47600 / 50000: loss 1.801283"
       ]
      },
      {
       "output_type": "stream",
       "stream": "stdout",
       "text": [
        "\n",
        "iteration 47700 / 50000: loss 1.794690\n",
        "iteration 47800 / 50000: loss 1.788209\n",
        "iteration 47900 / 50000: loss 1.781731\n",
        "iteration 48000 / 50000: loss 1.774937\n",
        "iteration 48100 / 50000: loss 1.768371\n",
        "iteration 48200 / 50000: loss 1.761778\n",
        "iteration 48300 / 50000: loss 1.755185\n",
        "iteration 48400 / 50000: loss 1.748592\n",
        "iteration 48500 / 50000: loss 1.742026\n",
        "iteration 48600 / 50000: loss 1.735432\n",
        "iteration 48700 / 50000: loss 1.728839\n",
        "iteration 48800 / 50000: loss 1.722249"
       ]
      },
      {
       "output_type": "stream",
       "stream": "stdout",
       "text": [
        "\n",
        "iteration 48900 / 50000: loss 1.715680\n",
        "iteration 49000 / 50000: loss 1.709086\n",
        "iteration 49100 / 50000: loss 1.702493\n",
        "iteration 49200 / 50000: loss 1.695927\n",
        "iteration 49300 / 50000: loss 1.689334\n",
        "iteration 49400 / 50000: loss 1.682741\n",
        "iteration 49500 / 50000: loss 1.676147\n",
        "iteration 49600 / 50000: loss 1.669733\n",
        "iteration 49700 / 50000: loss 1.663140\n",
        "iteration 49800 / 50000: loss 1.656657\n",
        "iteration 49900 / 50000: loss 1.650178\n",
        "Accuracy on training data = "
       ]
      },
      {
       "output_type": "stream",
       "stream": "stdout",
       "text": [
        " 1.0\n"
       ]
      },
      {
       "metadata": {},
       "output_type": "display_data",
       "png": "[encoded data removed]",
       "text": [
        "<matplotlib.figure.Figure at 0x7f9bdfe50210>"
       ]
      }
     ],
     "prompt_number": 43
    },
    {
     "cell_type": "markdown",
     "metadata": {},
     "source": [
      "### SVMs with Gaussian kernels \n",
      "In this part of the exercise, you will be using SVMs to do non-linear classification.\n",
      "In particular, you will be using SVMs with Gaussian kernels on\n",
      "datasets that are not linearly separable.\n",
      "\n",
      "To find non-linear decision boundaries with the SVM, we need to first implement\n",
      "a Gaussian kernel. You can think of the Gaussian kernel as a similarity\n",
      "function that measures the distance between a pair of examples,\n",
      "$(x^{(i)}, x^{(j)})$. The Gaussian kernel is also parameterized by a bandwidth parameter,\n",
      "$\\sigma$,  which determines how fast the similarity metric decreases (to 0)\n",
      "as the examples are further apart.\n",
      "You should now complete the function **gaussian\\_kernel** in **utils.py** to compute\n",
      "the Gaussian kernel between two examples. The Gaussian kernel\n",
      "function is defined as:\n",
      "\n",
      "$$ k(x^{(i)},x^{(j)}) = exp\\left(- \\frac{{||x^{(i)}-x^{(j)}||}^2}{2\\sigma^2}\\right) $$\n",
      "\n",
      "When you have completed the function, the cell below\n",
      "will test your kernel function on two provided examples and you should expect\n",
      "to see a value of 0.324652."
     ]
    },
    {
     "cell_type": "code",
     "collapsed": true,
     "input": [
      "############################################################################\n",
      "#  Part  3: Training SVM with a kernel                                     #\n",
      "#  We train an SVM with an RBF kernel on the data set and the plot the     #\n",
      "#  learned decision boundary                                               #\n",
      "############################################################################\n",
      "\n",
      "# test your Gaussian kernel implementation\n",
      "\n",
      "x1 = np.array([1,2,1])\n",
      "x2 = np.array([0,4,-1])\n",
      "sigma = 2\n",
      "\n",
      "print \"Guassian kernel value (should be around 0.324652) = \", utils.gaussian_kernel(x1,x2,sigma)"
     ],
     "language": "python",
     "metadata": {},
     "outputs": [
      {
       "output_type": "stream",
       "stream": "stdout",
       "text": [
        "Guassian kernel value (should be around 0.324652) =  0.32465246735834974\n"
       ]
      }
     ],
     "prompt_number": 52
    },
    {
     "cell_type": "markdown",
     "metadata": {},
     "source": [
      "### SVMs with Gaussian kernels on Dataset 2\n",
      "The next cell will load and plot dataset 2. From\n",
      "the plot, you can observe that there is no linear decision boundary that\n",
      "separates the positive and negative examples for this dataset. However, by\n",
      "using the Gaussian kernel with the SVM, you will be able to learn a non-linear\n",
      "decision boundary that can perform reasonably well for the dataset.\n",
      "If you have correctly implemented the Gaussian kernel function, the cell below\n",
      "will proceed to train the SVM with the Gaussian kernel on this dataset.\n",
      "\n",
      "The decision boundary found by the SVM with C = 1 and a Gaussian\n",
      "kernel with $\\sigma = 0.01$ will be plotted. The decision boundary is able to separate most of the positive and\n",
      "negative examples correctly and follows the contours of the dataset well.\n"
     ]
    },
    {
     "cell_type": "code",
     "collapsed": false,
     "input": [
      "# load ex4data2.mat\n",
      "\n",
      "X,y = utils.load_mat('data/ex4data2.mat')\n",
      "\n",
      "# visualize the data\n",
      "\n",
      "utils.plot_twoclass_data(X,y,'', '',['neg','pos'])\n",
      "\n",
      "# convert X to kernel form with the kernel function\n",
      "\n",
      "sigma = 0.02\n",
      "\n",
      "# compute the kernel (slow!)\n",
      "\n",
      "K = np.array([utils.gaussian_kernel(x1,x2,sigma) for x1 in X for x2 in X]).reshape(X.shape[0],X.shape[0])\n",
      "\n",
      "# scale the kernelized data matrix\n",
      "\n",
      "scaler = preprocessing.StandardScaler().fit(K)\n",
      "scaleK = scaler.transform(K)\n",
      "\n",
      "# add the intercept term\n",
      "\n",
      "KK = np.vstack([np.ones((scaleK.shape[0],)),scaleK.T]).T\n",
      "\n",
      "# transform y from [0,1] to [-1,1]\n",
      "\n",
      "yy = np.ones(y.shape)\n",
      "yy[y == 0] = -1\n",
      "\n",
      "# set up the SVM and learn the parameters\n",
      "\n",
      "svm = LinearSVM_twoclass()\n",
      "svm.theta = np.zeros((KK.shape[1],))\n",
      "C = 1\n",
      "svm.train(KK,yy,learning_rate=1e-4,reg=C,num_iters=20000,verbose=True,batch_size=KK.shape[0])\n",
      "\n",
      "# visualize the boundary\n",
      "\n",
      "utils.plot_decision_kernel_boundary(X,y,scaler,sigma,svm,'','',['neg','pos'])"
     ],
     "language": "python",
     "metadata": {},
     "outputs": [
      {
       "output_type": "stream",
       "stream": "stdout",
       "text": [
        "iteration 0 / 20000: loss 1.000000\n",
        "iteration 100 / 20000: loss 0.909638"
       ]
      },
      {
       "output_type": "stream",
       "stream": "stdout",
       "text": [
        "\n",
        "iteration 200 / 20000: loss 0.819276"
       ]
      },
      {
       "output_type": "stream",
       "stream": "stdout",
       "text": [
        "\n",
        "iteration 300 / 20000: loss 0.728914"
       ]
      },
      {
       "output_type": "stream",
       "stream": "stdout",
       "text": [
        "\n",
        "iteration 400 / 20000: loss 0.638552"
       ]
      },
      {
       "output_type": "stream",
       "stream": "stdout",
       "text": [
        "\n",
        "iteration 500 / 20000: loss 0.549161"
       ]
      },
      {
       "output_type": "stream",
       "stream": "stdout",
       "text": [
        "\n",
        "iteration 600 / 20000: loss 0.464898"
       ]
      },
      {
       "output_type": "stream",
       "stream": "stdout",
       "text": [
        "\n",
        "iteration 700 / 20000: loss 0.385348"
       ]
      },
      {
       "output_type": "stream",
       "stream": "stdout",
       "text": [
        "\n",
        "iteration 800 / 20000: loss 0.314291"
       ]
      },
      {
       "output_type": "stream",
       "stream": "stdout",
       "text": [
        "\n",
        "iteration 900 / 20000: loss 0.255621"
       ]
      },
      {
       "output_type": "stream",
       "stream": "stdout",
       "text": [
        "\n",
        "iteration 1000 / 20000: loss 0.209890"
       ]
      },
      {
       "output_type": "stream",
       "stream": "stdout",
       "text": [
        "\n",
        "iteration 1100 / 20000: loss 0.174496"
       ]
      },
      {
       "output_type": "stream",
       "stream": "stdout",
       "text": [
        "\n",
        "iteration 1200 / 20000: loss 0.148501"
       ]
      },
      {
       "output_type": "stream",
       "stream": "stdout",
       "text": [
        "\n",
        "iteration 1300 / 20000: loss 0.127873"
       ]
      },
      {
       "output_type": "stream",
       "stream": "stdout",
       "text": [
        "\n",
        "iteration 1400 / 20000: loss 0.111863"
       ]
      },
      {
       "output_type": "stream",
       "stream": "stdout",
       "text": [
        "\n",
        "iteration 1500 / 20000: loss 0.099179"
       ]
      },
      {
       "output_type": "stream",
       "stream": "stdout",
       "text": [
        "\n",
        "iteration 1600 / 20000: loss 0.088856"
       ]
      },
      {
       "output_type": "stream",
       "stream": "stdout",
       "text": [
        "\n",
        "iteration 1700 / 20000: loss 0.080437"
       ]
      },
      {
       "output_type": "stream",
       "stream": "stdout",
       "text": [
        "\n",
        "iteration 1800 / 20000: loss 0.073176"
       ]
      },
      {
       "output_type": "stream",
       "stream": "stdout",
       "text": [
        "\n",
        "iteration 1900 / 20000: loss 0.066710"
       ]
      },
      {
       "output_type": "stream",
       "stream": "stdout",
       "text": [
        "\n",
        "iteration 2000 / 20000: loss 0.061074"
       ]
      },
      {
       "output_type": "stream",
       "stream": "stdout",
       "text": [
        "\n",
        "iteration 2100 / 20000: loss 0.056009"
       ]
      },
      {
       "output_type": "stream",
       "stream": "stdout",
       "text": [
        "\n",
        "iteration 2200 / 20000: loss 0.051725"
       ]
      },
      {
       "output_type": "stream",
       "stream": "stdout",
       "text": [
        "\n",
        "iteration 2300 / 20000: loss 0.048177"
       ]
      },
      {
       "output_type": "stream",
       "stream": "stdout",
       "text": [
        "\n",
        "iteration 2400 / 20000: loss 0.045064"
       ]
      },
      {
       "output_type": "stream",
       "stream": "stdout",
       "text": [
        "\n",
        "iteration 2500 / 20000: loss 0.042245"
       ]
      },
      {
       "output_type": "stream",
       "stream": "stdout",
       "text": [
        "\n",
        "iteration 2600 / 20000: loss 0.039649"
       ]
      },
      {
       "output_type": "stream",
       "stream": "stdout",
       "text": [
        "\n",
        "iteration 2700 / 20000: loss 0.037209"
       ]
      },
      {
       "output_type": "stream",
       "stream": "stdout",
       "text": [
        "\n",
        "iteration 2800 / 20000: loss 0.034981"
       ]
      },
      {
       "output_type": "stream",
       "stream": "stdout",
       "text": [
        "\n",
        "iteration 2900 / 20000: loss 0.032972"
       ]
      },
      {
       "output_type": "stream",
       "stream": "stdout",
       "text": [
        "\n",
        "iteration 3000 / 20000: loss 0.031069"
       ]
      },
      {
       "output_type": "stream",
       "stream": "stdout",
       "text": [
        "\n",
        "iteration 3100 / 20000: loss 0.029374"
       ]
      },
      {
       "output_type": "stream",
       "stream": "stdout",
       "text": [
        "\n",
        "iteration 3200 / 20000: loss 0.027895"
       ]
      },
      {
       "output_type": "stream",
       "stream": "stdout",
       "text": [
        "\n",
        "iteration 3300 / 20000: loss 0.026556"
       ]
      },
      {
       "output_type": "stream",
       "stream": "stdout",
       "text": [
        "\n",
        "iteration 3400 / 20000: loss 0.025315"
       ]
      },
      {
       "output_type": "stream",
       "stream": "stdout",
       "text": [
        "\n",
        "iteration 3500 / 20000: loss 0.024173"
       ]
      },
      {
       "output_type": "stream",
       "stream": "stdout",
       "text": [
        "\n",
        "iteration 3600 / 20000: loss 0.023111"
       ]
      },
      {
       "output_type": "stream",
       "stream": "stdout",
       "text": [
        "\n",
        "iteration 3700 / 20000: loss 0.022121"
       ]
      },
      {
       "output_type": "stream",
       "stream": "stdout",
       "text": [
        "\n",
        "iteration 3800 / 20000: loss 0.021270"
       ]
      },
      {
       "output_type": "stream",
       "stream": "stdout",
       "text": [
        "\n",
        "iteration 3900 / 20000: loss 0.020486"
       ]
      },
      {
       "output_type": "stream",
       "stream": "stdout",
       "text": [
        "\n",
        "iteration 4000 / 20000: loss 0.019730"
       ]
      },
      {
       "output_type": "stream",
       "stream": "stdout",
       "text": [
        "\n",
        "iteration 4100 / 20000: loss 0.018998"
       ]
      },
      {
       "output_type": "stream",
       "stream": "stdout",
       "text": [
        "\n",
        "iteration 4200 / 20000: loss 0.018339"
       ]
      },
      {
       "output_type": "stream",
       "stream": "stdout",
       "text": [
        "\n",
        "iteration 4300 / 20000: loss 0.017703"
       ]
      },
      {
       "output_type": "stream",
       "stream": "stdout",
       "text": [
        "\n",
        "iteration 4400 / 20000: loss 0.017089"
       ]
      },
      {
       "output_type": "stream",
       "stream": "stdout",
       "text": [
        "\n",
        "iteration 4500 / 20000: loss 0.016506"
       ]
      },
      {
       "output_type": "stream",
       "stream": "stdout",
       "text": [
        "\n",
        "iteration 4600 / 20000: loss 0.015931"
       ]
      },
      {
       "output_type": "stream",
       "stream": "stdout",
       "text": [
        "\n",
        "iteration 4700 / 20000: loss 0.015372"
       ]
      },
      {
       "output_type": "stream",
       "stream": "stdout",
       "text": [
        "\n",
        "iteration 4800 / 20000: loss 0.014839"
       ]
      },
      {
       "output_type": "stream",
       "stream": "stdout",
       "text": [
        "\n",
        "iteration 4900 / 20000: loss 0.014318"
       ]
      },
      {
       "output_type": "stream",
       "stream": "stdout",
       "text": [
        "\n",
        "iteration 5000 / 20000: loss 0.013817"
       ]
      },
      {
       "output_type": "stream",
       "stream": "stdout",
       "text": [
        "\n",
        "iteration 5100 / 20000: loss 0.013350"
       ]
      },
      {
       "output_type": "stream",
       "stream": "stdout",
       "text": [
        "\n",
        "iteration 5200 / 20000: loss 0.012900"
       ]
      },
      {
       "output_type": "stream",
       "stream": "stdout",
       "text": [
        "\n",
        "iteration 5300 / 20000: loss 0.012486"
       ]
      },
      {
       "output_type": "stream",
       "stream": "stdout",
       "text": [
        "\n",
        "iteration 5400 / 20000: loss 0.012081"
       ]
      },
      {
       "output_type": "stream",
       "stream": "stdout",
       "text": [
        "\n",
        "iteration 5500 / 20000: loss 0.011700"
       ]
      },
      {
       "output_type": "stream",
       "stream": "stdout",
       "text": [
        "\n",
        "iteration 5600 / 20000: loss 0.011353"
       ]
      },
      {
       "output_type": "stream",
       "stream": "stdout",
       "text": [
        "\n",
        "iteration 5700 / 20000: loss 0.011022"
       ]
      },
      {
       "output_type": "stream",
       "stream": "stdout",
       "text": [
        "\n",
        "iteration 5800 / 20000: loss 0.010718"
       ]
      },
      {
       "output_type": "stream",
       "stream": "stdout",
       "text": [
        "\n",
        "iteration 5900 / 20000: loss 0.010453"
       ]
      },
      {
       "output_type": "stream",
       "stream": "stdout",
       "text": [
        "\n",
        "iteration 6000 / 20000: loss 0.010215"
       ]
      },
      {
       "output_type": "stream",
       "stream": "stdout",
       "text": [
        "\n",
        "iteration 6100 / 20000: loss 0.009991"
       ]
      },
      {
       "output_type": "stream",
       "stream": "stdout",
       "text": [
        "\n",
        "iteration 6200 / 20000: loss 0.009777"
       ]
      },
      {
       "output_type": "stream",
       "stream": "stdout",
       "text": [
        "\n",
        "iteration 6300 / 20000: loss 0.009575"
       ]
      },
      {
       "output_type": "stream",
       "stream": "stdout",
       "text": [
        "\n",
        "iteration 6400 / 20000: loss 0.009384"
       ]
      },
      {
       "output_type": "stream",
       "stream": "stdout",
       "text": [
        "\n",
        "iteration 6500 / 20000: loss 0.009208"
       ]
      },
      {
       "output_type": "stream",
       "stream": "stdout",
       "text": [
        "\n",
        "iteration 6600 / 20000: loss 0.009042"
       ]
      },
      {
       "output_type": "stream",
       "stream": "stdout",
       "text": [
        "\n",
        "iteration 6700 / 20000: loss 0.008877"
       ]
      },
      {
       "output_type": "stream",
       "stream": "stdout",
       "text": [
        "\n",
        "iteration 6800 / 20000: loss 0.008722"
       ]
      },
      {
       "output_type": "stream",
       "stream": "stdout",
       "text": [
        "\n",
        "iteration 6900 / 20000: loss 0.008602"
       ]
      },
      {
       "output_type": "stream",
       "stream": "stdout",
       "text": [
        "\n",
        "iteration 7000 / 20000: loss 0.008496"
       ]
      },
      {
       "output_type": "stream",
       "stream": "stdout",
       "text": [
        "\n",
        "iteration 7100 / 20000: loss 0.008396"
       ]
      },
      {
       "output_type": "stream",
       "stream": "stdout",
       "text": [
        "\n",
        "iteration 7200 / 20000: loss 0.008297"
       ]
      },
      {
       "output_type": "stream",
       "stream": "stdout",
       "text": [
        "\n",
        "iteration 7300 / 20000: loss 0.008206"
       ]
      },
      {
       "output_type": "stream",
       "stream": "stdout",
       "text": [
        "\n",
        "iteration 7400 / 20000: loss 0.008115"
       ]
      },
      {
       "output_type": "stream",
       "stream": "stdout",
       "text": [
        "\n",
        "iteration 7500 / 20000: loss 0.008025"
       ]
      },
      {
       "output_type": "stream",
       "stream": "stdout",
       "text": [
        "\n",
        "iteration 7600 / 20000: loss 0.007934"
       ]
      },
      {
       "output_type": "stream",
       "stream": "stdout",
       "text": [
        "\n",
        "iteration 7700 / 20000: loss 0.007844"
       ]
      },
      {
       "output_type": "stream",
       "stream": "stdout",
       "text": [
        "\n",
        "iteration 7800 / 20000: loss 0.007753"
       ]
      },
      {
       "output_type": "stream",
       "stream": "stdout",
       "text": [
        "\n",
        "iteration 7900 / 20000: loss 0.007670"
       ]
      },
      {
       "output_type": "stream",
       "stream": "stdout",
       "text": [
        "\n",
        "iteration 8000 / 20000: loss 0.007588"
       ]
      },
      {
       "output_type": "stream",
       "stream": "stdout",
       "text": [
        "\n",
        "iteration 8100 / 20000: loss 0.007505"
       ]
      },
      {
       "output_type": "stream",
       "stream": "stdout",
       "text": [
        "\n",
        "iteration 8200 / 20000: loss 0.007427"
       ]
      },
      {
       "output_type": "stream",
       "stream": "stdout",
       "text": [
        "\n",
        "iteration 8300 / 20000: loss 0.007357"
       ]
      },
      {
       "output_type": "stream",
       "stream": "stdout",
       "text": [
        "\n",
        "iteration 8400 / 20000: loss 0.007286"
       ]
      },
      {
       "output_type": "stream",
       "stream": "stdout",
       "text": [
        "\n",
        "iteration 8500 / 20000: loss 0.007216"
       ]
      },
      {
       "output_type": "stream",
       "stream": "stdout",
       "text": [
        "\n",
        "iteration 8600 / 20000: loss 0.007145"
       ]
      },
      {
       "output_type": "stream",
       "stream": "stdout",
       "text": [
        "\n",
        "iteration 8700 / 20000: loss 0.007075"
       ]
      },
      {
       "output_type": "stream",
       "stream": "stdout",
       "text": [
        "\n",
        "iteration 8800 / 20000: loss 0.007005"
       ]
      },
      {
       "output_type": "stream",
       "stream": "stdout",
       "text": [
        "\n",
        "iteration 8900 / 20000: loss 0.006934"
       ]
      },
      {
       "output_type": "stream",
       "stream": "stdout",
       "text": [
        "\n",
        "iteration 9000 / 20000: loss 0.006864"
       ]
      },
      {
       "output_type": "stream",
       "stream": "stdout",
       "text": [
        "\n",
        "iteration 9100 / 20000: loss 0.006793"
       ]
      },
      {
       "output_type": "stream",
       "stream": "stdout",
       "text": [
        "\n",
        "iteration 9200 / 20000: loss 0.006723"
       ]
      },
      {
       "output_type": "stream",
       "stream": "stdout",
       "text": [
        "\n",
        "iteration 9300 / 20000: loss 0.006652"
       ]
      },
      {
       "output_type": "stream",
       "stream": "stdout",
       "text": [
        "\n",
        "iteration 9400 / 20000: loss 0.006582"
       ]
      },
      {
       "output_type": "stream",
       "stream": "stdout",
       "text": [
        "\n",
        "iteration 9500 / 20000: loss 0.006512"
       ]
      },
      {
       "output_type": "stream",
       "stream": "stdout",
       "text": [
        "\n",
        "iteration 9600 / 20000: loss 0.006441"
       ]
      },
      {
       "output_type": "stream",
       "stream": "stdout",
       "text": [
        "\n",
        "iteration 9700 / 20000: loss 0.006371"
       ]
      },
      {
       "output_type": "stream",
       "stream": "stdout",
       "text": [
        "\n",
        "iteration 9800 / 20000: loss 0.006300"
       ]
      },
      {
       "output_type": "stream",
       "stream": "stdout",
       "text": [
        "\n",
        "iteration 9900 / 20000: loss 0.006230"
       ]
      },
      {
       "output_type": "stream",
       "stream": "stdout",
       "text": [
        "\n",
        "iteration 10000 / 20000: loss 0.006159"
       ]
      },
      {
       "output_type": "stream",
       "stream": "stdout",
       "text": [
        "\n",
        "iteration 10100 / 20000: loss 0.006089"
       ]
      },
      {
       "output_type": "stream",
       "stream": "stdout",
       "text": [
        "\n",
        "iteration 10200 / 20000: loss 0.006019"
       ]
      },
      {
       "output_type": "stream",
       "stream": "stdout",
       "text": [
        "\n",
        "iteration 10300 / 20000: loss 0.005948"
       ]
      },
      {
       "output_type": "stream",
       "stream": "stdout",
       "text": [
        "\n",
        "iteration 10400 / 20000: loss 0.005878"
       ]
      },
      {
       "output_type": "stream",
       "stream": "stdout",
       "text": [
        "\n",
        "iteration 10500 / 20000: loss 0.005807"
       ]
      },
      {
       "output_type": "stream",
       "stream": "stdout",
       "text": [
        "\n",
        "iteration 10600 / 20000: loss 0.005737"
       ]
      },
      {
       "output_type": "stream",
       "stream": "stdout",
       "text": [
        "\n",
        "iteration 10700 / 20000: loss 0.005666"
       ]
      },
      {
       "output_type": "stream",
       "stream": "stdout",
       "text": [
        "\n",
        "iteration 10800 / 20000: loss 0.005596"
       ]
      },
      {
       "output_type": "stream",
       "stream": "stdout",
       "text": [
        "\n",
        "iteration 10900 / 20000: loss 0.005533"
       ]
      },
      {
       "output_type": "stream",
       "stream": "stdout",
       "text": [
        "\n",
        "iteration 11000 / 20000: loss 0.005471"
       ]
      },
      {
       "output_type": "stream",
       "stream": "stdout",
       "text": [
        "\n",
        "iteration 11100 / 20000: loss 0.005409"
       ]
      },
      {
       "output_type": "stream",
       "stream": "stdout",
       "text": [
        "\n",
        "iteration 11200 / 20000: loss 0.005347"
       ]
      },
      {
       "output_type": "stream",
       "stream": "stdout",
       "text": [
        "\n",
        "iteration 11300 / 20000: loss 0.005285"
       ]
      },
      {
       "output_type": "stream",
       "stream": "stdout",
       "text": [
        "\n",
        "iteration 11400 / 20000: loss 0.005222"
       ]
      },
      {
       "output_type": "stream",
       "stream": "stdout",
       "text": [
        "\n",
        "iteration 11500 / 20000: loss 0.005160"
       ]
      },
      {
       "output_type": "stream",
       "stream": "stdout",
       "text": [
        "\n",
        "iteration 11600 / 20000: loss 0.005098"
       ]
      },
      {
       "output_type": "stream",
       "stream": "stdout",
       "text": [
        "\n",
        "iteration 11700 / 20000: loss 0.005036"
       ]
      },
      {
       "output_type": "stream",
       "stream": "stdout",
       "text": [
        "\n",
        "iteration 11800 / 20000: loss 0.004974"
       ]
      },
      {
       "output_type": "stream",
       "stream": "stdout",
       "text": [
        "\n",
        "iteration 11900 / 20000: loss 0.004912"
       ]
      },
      {
       "output_type": "stream",
       "stream": "stdout",
       "text": [
        "\n",
        "iteration 12000 / 20000: loss 0.004850"
       ]
      },
      {
       "output_type": "stream",
       "stream": "stdout",
       "text": [
        "\n",
        "iteration 12100 / 20000: loss 0.004788"
       ]
      },
      {
       "output_type": "stream",
       "stream": "stdout",
       "text": [
        "\n",
        "iteration 12200 / 20000: loss 0.004734"
       ]
      },
      {
       "output_type": "stream",
       "stream": "stdout",
       "text": [
        "\n",
        "iteration 12300 / 20000: loss 0.004684"
       ]
      },
      {
       "output_type": "stream",
       "stream": "stdout",
       "text": [
        "\n",
        "iteration 12400 / 20000: loss 0.004637"
       ]
      },
      {
       "output_type": "stream",
       "stream": "stdout",
       "text": [
        "\n",
        "iteration 12500 / 20000: loss 0.004591"
       ]
      },
      {
       "output_type": "stream",
       "stream": "stdout",
       "text": [
        "\n",
        "iteration 12600 / 20000: loss 0.004544"
       ]
      },
      {
       "output_type": "stream",
       "stream": "stdout",
       "text": [
        "\n",
        "iteration 12700 / 20000: loss 0.004497"
       ]
      },
      {
       "output_type": "stream",
       "stream": "stdout",
       "text": [
        "\n",
        "iteration 12800 / 20000: loss 0.004450"
       ]
      },
      {
       "output_type": "stream",
       "stream": "stdout",
       "text": [
        "\n",
        "iteration 12900 / 20000: loss 0.004403"
       ]
      },
      {
       "output_type": "stream",
       "stream": "stdout",
       "text": [
        "\n",
        "iteration 13000 / 20000: loss 0.004357"
       ]
      },
      {
       "output_type": "stream",
       "stream": "stdout",
       "text": [
        "\n",
        "iteration 13100 / 20000: loss 0.004310"
       ]
      },
      {
       "output_type": "stream",
       "stream": "stdout",
       "text": [
        "\n",
        "iteration 13200 / 20000: loss 0.004264"
       ]
      },
      {
       "output_type": "stream",
       "stream": "stdout",
       "text": [
        "\n",
        "iteration 13300 / 20000: loss 0.004217"
       ]
      },
      {
       "output_type": "stream",
       "stream": "stdout",
       "text": [
        "\n",
        "iteration 13400 / 20000: loss 0.004171"
       ]
      },
      {
       "output_type": "stream",
       "stream": "stdout",
       "text": [
        "\n",
        "iteration 13500 / 20000: loss 0.004127"
       ]
      },
      {
       "output_type": "stream",
       "stream": "stdout",
       "text": [
        "\n",
        "iteration 13600 / 20000: loss 0.004083"
       ]
      },
      {
       "output_type": "stream",
       "stream": "stdout",
       "text": [
        "\n",
        "iteration 13700 / 20000: loss 0.004039"
       ]
      },
      {
       "output_type": "stream",
       "stream": "stdout",
       "text": [
        "\n",
        "iteration 13800 / 20000: loss 0.003995"
       ]
      },
      {
       "output_type": "stream",
       "stream": "stdout",
       "text": [
        "\n",
        "iteration 13900 / 20000: loss 0.003952"
       ]
      },
      {
       "output_type": "stream",
       "stream": "stdout",
       "text": [
        "\n",
        "iteration 14000 / 20000: loss 0.003908"
       ]
      },
      {
       "output_type": "stream",
       "stream": "stdout",
       "text": [
        "\n",
        "iteration 14100 / 20000: loss 0.003864"
       ]
      },
      {
       "output_type": "stream",
       "stream": "stdout",
       "text": [
        "\n",
        "iteration 14200 / 20000: loss 0.003833"
       ]
      },
      {
       "output_type": "stream",
       "stream": "stdout",
       "text": [
        "\n",
        "iteration 14300 / 20000: loss 0.003805"
       ]
      },
      {
       "output_type": "stream",
       "stream": "stdout",
       "text": [
        "\n",
        "iteration 14400 / 20000: loss 0.003778"
       ]
      },
      {
       "output_type": "stream",
       "stream": "stdout",
       "text": [
        "\n",
        "iteration 14500 / 20000: loss 0.003750"
       ]
      },
      {
       "output_type": "stream",
       "stream": "stdout",
       "text": [
        "\n",
        "iteration 14600 / 20000: loss 0.003723"
       ]
      },
      {
       "output_type": "stream",
       "stream": "stdout",
       "text": [
        "\n",
        "iteration 14700 / 20000: loss 0.003695"
       ]
      },
      {
       "output_type": "stream",
       "stream": "stdout",
       "text": [
        "\n",
        "iteration 14800 / 20000: loss 0.003668"
       ]
      },
      {
       "output_type": "stream",
       "stream": "stdout",
       "text": [
        "\n",
        "iteration 14900 / 20000: loss 0.003640"
       ]
      },
      {
       "output_type": "stream",
       "stream": "stdout",
       "text": [
        "\n",
        "iteration 15000 / 20000: loss 0.003613"
       ]
      },
      {
       "output_type": "stream",
       "stream": "stdout",
       "text": [
        "\n",
        "iteration 15100 / 20000: loss 0.003586"
       ]
      },
      {
       "output_type": "stream",
       "stream": "stdout",
       "text": [
        "\n",
        "iteration 15200 / 20000: loss 0.003565"
       ]
      },
      {
       "output_type": "stream",
       "stream": "stdout",
       "text": [
        "\n",
        "iteration 15300 / 20000: loss 0.003544"
       ]
      },
      {
       "output_type": "stream",
       "stream": "stdout",
       "text": [
        "\n",
        "iteration 15400 / 20000: loss 0.003523"
       ]
      },
      {
       "output_type": "stream",
       "stream": "stdout",
       "text": [
        "\n",
        "iteration 15500 / 20000: loss 0.003502"
       ]
      },
      {
       "output_type": "stream",
       "stream": "stdout",
       "text": [
        "\n",
        "iteration 15600 / 20000: loss 0.003482"
       ]
      },
      {
       "output_type": "stream",
       "stream": "stdout",
       "text": [
        "\n",
        "iteration 15700 / 20000: loss 0.003462"
       ]
      },
      {
       "output_type": "stream",
       "stream": "stdout",
       "text": [
        "\n",
        "iteration 15800 / 20000: loss 0.003442"
       ]
      },
      {
       "output_type": "stream",
       "stream": "stdout",
       "text": [
        "\n",
        "iteration 15900 / 20000: loss 0.003428"
       ]
      },
      {
       "output_type": "stream",
       "stream": "stdout",
       "text": [
        "\n",
        "iteration 16000 / 20000: loss 0.003415"
       ]
      },
      {
       "output_type": "stream",
       "stream": "stdout",
       "text": [
        "\n",
        "iteration 16100 / 20000: loss 0.003402"
       ]
      },
      {
       "output_type": "stream",
       "stream": "stdout",
       "text": [
        "\n",
        "iteration 16200 / 20000: loss 0.003389"
       ]
      },
      {
       "output_type": "stream",
       "stream": "stdout",
       "text": [
        "\n",
        "iteration 16300 / 20000: loss 0.003376"
       ]
      },
      {
       "output_type": "stream",
       "stream": "stdout",
       "text": [
        "\n",
        "iteration 16400 / 20000: loss 0.003364"
       ]
      },
      {
       "output_type": "stream",
       "stream": "stdout",
       "text": [
        "\n",
        "iteration 16500 / 20000: loss 0.003351"
       ]
      },
      {
       "output_type": "stream",
       "stream": "stdout",
       "text": [
        "\n",
        "iteration 16600 / 20000: loss 0.003338"
       ]
      },
      {
       "output_type": "stream",
       "stream": "stdout",
       "text": [
        "\n",
        "iteration 16700 / 20000: loss 0.003325"
       ]
      },
      {
       "output_type": "stream",
       "stream": "stdout",
       "text": [
        "\n",
        "iteration 16800 / 20000: loss 0.003312"
       ]
      },
      {
       "output_type": "stream",
       "stream": "stdout",
       "text": [
        "\n",
        "iteration 16900 / 20000: loss 0.003299"
       ]
      },
      {
       "output_type": "stream",
       "stream": "stdout",
       "text": [
        "\n",
        "iteration 17000 / 20000: loss 0.003286"
       ]
      },
      {
       "output_type": "stream",
       "stream": "stdout",
       "text": [
        "\n",
        "iteration 17100 / 20000: loss 0.003273"
       ]
      },
      {
       "output_type": "stream",
       "stream": "stdout",
       "text": [
        "\n",
        "iteration 17200 / 20000: loss 0.003261"
       ]
      },
      {
       "output_type": "stream",
       "stream": "stdout",
       "text": [
        "\n",
        "iteration 17300 / 20000: loss 0.003248"
       ]
      },
      {
       "output_type": "stream",
       "stream": "stdout",
       "text": [
        "\n",
        "iteration 17400 / 20000: loss 0.003235"
       ]
      },
      {
       "output_type": "stream",
       "stream": "stdout",
       "text": [
        "\n",
        "iteration 17500 / 20000: loss 0.003222"
       ]
      },
      {
       "output_type": "stream",
       "stream": "stdout",
       "text": [
        "\n",
        "iteration 17600 / 20000: loss 0.003209"
       ]
      },
      {
       "output_type": "stream",
       "stream": "stdout",
       "text": [
        "\n",
        "iteration 17700 / 20000: loss 0.003196"
       ]
      },
      {
       "output_type": "stream",
       "stream": "stdout",
       "text": [
        "\n",
        "iteration 17800 / 20000: loss 0.003183"
       ]
      },
      {
       "output_type": "stream",
       "stream": "stdout",
       "text": [
        "\n",
        "iteration 17900 / 20000: loss 0.003171"
       ]
      },
      {
       "output_type": "stream",
       "stream": "stdout",
       "text": [
        "\n",
        "iteration 18000 / 20000: loss 0.003158"
       ]
      },
      {
       "output_type": "stream",
       "stream": "stdout",
       "text": [
        "\n",
        "iteration 18100 / 20000: loss 0.003145"
       ]
      },
      {
       "output_type": "stream",
       "stream": "stdout",
       "text": [
        "\n",
        "iteration 18200 / 20000: loss 0.003132"
       ]
      },
      {
       "output_type": "stream",
       "stream": "stdout",
       "text": [
        "\n",
        "iteration 18300 / 20000: loss 0.003119"
       ]
      },
      {
       "output_type": "stream",
       "stream": "stdout",
       "text": [
        "\n",
        "iteration 18400 / 20000: loss 0.003106"
       ]
      },
      {
       "output_type": "stream",
       "stream": "stdout",
       "text": [
        "\n",
        "iteration 18500 / 20000: loss 0.003093"
       ]
      },
      {
       "output_type": "stream",
       "stream": "stdout",
       "text": [
        "\n",
        "iteration 18600 / 20000: loss 0.003080"
       ]
      },
      {
       "output_type": "stream",
       "stream": "stdout",
       "text": [
        "\n",
        "iteration 18700 / 20000: loss 0.003067"
       ]
      },
      {
       "output_type": "stream",
       "stream": "stdout",
       "text": [
        "\n",
        "iteration 18800 / 20000: loss 0.003055"
       ]
      },
      {
       "output_type": "stream",
       "stream": "stdout",
       "text": [
        "\n",
        "iteration 18900 / 20000: loss 0.003042"
       ]
      },
      {
       "output_type": "stream",
       "stream": "stdout",
       "text": [
        "\n",
        "iteration 19000 / 20000: loss 0.003029"
       ]
      },
      {
       "output_type": "stream",
       "stream": "stdout",
       "text": [
        "\n",
        "iteration 19100 / 20000: loss 0.003016"
       ]
      },
      {
       "output_type": "stream",
       "stream": "stdout",
       "text": [
        "\n",
        "iteration 19200 / 20000: loss 0.003003"
       ]
      },
      {
       "output_type": "stream",
       "stream": "stdout",
       "text": [
        "\n",
        "iteration 19300 / 20000: loss 0.002990"
       ]
      },
      {
       "output_type": "stream",
       "stream": "stdout",
       "text": [
        "\n",
        "iteration 19400 / 20000: loss 0.002977"
       ]
      },
      {
       "output_type": "stream",
       "stream": "stdout",
       "text": [
        "\n",
        "iteration 19500 / 20000: loss 0.002965"
       ]
      },
      {
       "output_type": "stream",
       "stream": "stdout",
       "text": [
        "\n",
        "iteration 19600 / 20000: loss 0.002952"
       ]
      },
      {
       "output_type": "stream",
       "stream": "stdout",
       "text": [
        "\n",
        "iteration 19700 / 20000: loss 0.002939"
       ]
      },
      {
       "output_type": "stream",
       "stream": "stdout",
       "text": [
        "\n",
        "iteration 19800 / 20000: loss 0.002926"
       ]
      },
      {
       "output_type": "stream",
       "stream": "stdout",
       "text": [
        "\n",
        "iteration 19900 / 20000: loss 0.002913"
       ]
      },
      {
       "output_type": "stream",
       "stream": "stdout",
       "text": [
        "\n"
       ]
      },
      {
       "metadata": {},
       "output_type": "display_data",
       "png": "[encoded data removed]",
       "text": [
        "<matplotlib.figure.Figure at 0x7f9be1f5fa50>"
       ]
      },
      {
       "metadata": {},
       "output_type": "display_data",
       "png": "[encoded data removed]",
       "text": [
        "<matplotlib.figure.Figure at 0x7f9bdfef77d0>"
       ]
      }
     ],
     "prompt_number": 53
    },
    {
     "cell_type": "markdown",
     "metadata": {},
     "source": [
      "### Selecting hyperparameters for SVMs with Gaussian kernels\n",
      "In this part of the exercise, you will gain more practical skills on how to use\n",
      "a SVM with a Gaussian kernel. The next cell will load and display\n",
      "a third dataset. \n",
      "In the provided dataset, **ex4data3.mat**, you are given the variables **X**,\n",
      "**y**, **Xval**, **yval**.  You will be using the SVM with the Gaussian\n",
      "kernel with this dataset. Your task is to use the  validation set **Xval**, **yval** to determine the\n",
      "best C and $\\sigma$ parameter to use. You should write any additional code necessary\n",
      "to help you search over the parameters C and $\\sigma$. For both C and $\\sigma$, we\n",
      "suggest trying values in multiplicative steps (e.g., 0.01, 0.03, 0.1, 0.3, 1, 3, 10, 30).\n",
      "Note that you should try all possible pairs of values for C and $\\sigma$ (e.g., C = 0.3\n",
      "and $\\sigma$ = 0.1). For example, if you try each of the 8 values listed above for C\n",
      "and for $\\sigma$, you would end up training and evaluating (on the  validation\n",
      "set) a total of $8^2 = 64$ different models.\n",
      "\n",
      "When  selecting  the\n",
      "best C and $\\sigma$ parameter to use, you train on {\\tt X,y} with a given C and $\\sigma$, and then  evaluate the error of the model on the \n",
      "validation set. Recall that for classification, the error is defined as the\n",
      "fraction of the  validation examples that were classified incorrectly.\n",
      "You can use the **predict** method of the SVM classifier to generate the predictions for the\n",
      " validation set.\n",
      " \n",
      " After you have determined the best C and $\\sigma$ parameters to use, you\n",
      "should replace the assignments to **best\\_C** and **best\\_sigma** in the cell below. "
     ]
    },
    {
     "cell_type": "code",
     "collapsed": true,
     "input": [
      "############################################################################\n",
      "#  Part  4: Training SVM with a kernel                                     #\n",
      "#  We train an SVM with an RBF kernel on the data set and the plot the     #\n",
      "#  learned decision boundary                                               #\n",
      "############################################################################\n",
      "\n",
      "# load ex4data3.mat\n",
      "\n",
      "X,y,Xval,yval = utils.loadval_mat('data/ex4data3.mat')\n",
      "\n",
      "# transform y and yval from [0,1] to [-1,1]\n",
      "\n",
      "yy = np.ones(y.shape)\n",
      "yy[y == 0] = -1\n",
      "\n",
      "yyval = np.ones(yval.shape)\n",
      "yyval[yval == 0] = -1\n",
      "\n",
      "# visualize the data\n",
      "\n",
      "utils.plot_twoclass_data(X,y,'x1', 'x2',['neg','pos'])\n",
      "\n",
      "\n",
      "############################################################################\n",
      "# TODO                                                                     #\n",
      "# select hyperparameters C and sigma for this dataset using                #\n",
      "# Xval and yval                                                            #\n",
      "############################################################################\n",
      "Cvals = [0.01,0.03,0.1,0.3,1,3,10,30]\n",
      "sigma_vals = [0.01,0.03,0.1,0.3,1,3,10,30]\n",
      "\n",
      "# TODO       \n",
      "# select hyperparameters here; loopover all Cvals and sigma_vals. \n",
      "# About 8-10 lines of code here\n",
      "count = 0\n",
      "for sigma in sigma_vals:\n",
      "    K = np.array([utils.gaussian_kernel(x1,x2,sigma) for x1 in X for x2 in X]).reshape(X.shape[0],X.shape[0])\n",
      "    scaler = preprocessing.StandardScaler().fit(K)\n",
      "    scaleK = scaler.transform(K)\n",
      "    KK = np.vstack([np.ones((scaleK.shape[0],)),scaleK.T]).T\n",
      "    for C in Cvals:\n",
      "        svm = LinearSVM_twoclass()\n",
      "        svm.theta = np.zeros((KK.shape[1],))\n",
      "        svm.train(KK,yy,learning_rate=1e-4,reg=C,num_iters=20000,verbose=False,batch_size=KK.shape[0])\n",
      "        Kval = np.array([utils.gaussian_kernel(x1,x2,sigma) for x1 in Xval for x2 in X]).reshape(Xval.shape[0],X.shape[0])\n",
      "        scaler = preprocessing.StandardScaler().fit(Kval)\n",
      "        scaleKval = scaler.transform(Kval)\n",
      "        KKval = np.vstack([np.ones((scaleKval.shape[0],)),scaleKval.T]).T\n",
      "        error = sum((svm.predict(KKval)!=yyval)*1.0)/float(len(yyval))\n",
      "        count += 1\n",
      "        print \"trial \",str(count),\", sigma: \",str(sigma),\", C: \",str(C),\", error: \",str(error)\n",
      "############################################################################\n",
      "#       END OF YOUR CODE                                                   #\n",
      "############################################################################\n",
      "\n",
      "\n"
     ],
     "language": "python",
     "metadata": {},
     "outputs": [
      {
       "output_type": "stream",
       "stream": "stdout",
       "text": [
        "trial  1 , sigma:  0.01 , C:  0.01 , error:  0.265\n",
        "trial "
       ]
      },
      {
       "output_type": "stream",
       "stream": "stdout",
       "text": [
        " 2 , sigma:  0.01 , C:  0.03 , error:  0.265\n",
        "trial "
       ]
      },
      {
       "output_type": "stream",
       "stream": "stdout",
       "text": [
        " 3 , sigma:  0.01 , C:  0.1 , error:  0.265\n",
        "trial "
       ]
      },
      {
       "output_type": "stream",
       "stream": "stdout",
       "text": [
        " 4 , sigma:  0.01 , C:  0.3 , error:  0.265\n",
        "trial "
       ]
      },
      {
       "output_type": "stream",
       "stream": "stdout",
       "text": [
        " 5 , sigma:  0.01 , C:  1 , error:  0.245\n",
        "trial "
       ]
      },
      {
       "output_type": "stream",
       "stream": "stdout",
       "text": [
        " 6 , sigma:  0.01 , C:  3 , error:  0.245\n",
        "trial "
       ]
      },
      {
       "output_type": "stream",
       "stream": "stdout",
       "text": [
        " 7 , sigma:  0.01 , C:  10 , error:  0.245\n",
        "trial "
       ]
      },
      {
       "output_type": "stream",
       "stream": "stdout",
       "text": [
        " 8 , sigma:  0.01 , C:  30 , error:  0.245\n",
        "trial "
       ]
      },
      {
       "output_type": "stream",
       "stream": "stdout",
       "text": [
        " 9 , sigma:  0.03 , C:  0.01 , error:  0.075\n",
        "trial "
       ]
      },
      {
       "output_type": "stream",
       "stream": "stdout",
       "text": [
        " 10 , sigma:  0.03 , C:  0.03 , error:  0.075\n",
        "trial "
       ]
      },
      {
       "output_type": "stream",
       "stream": "stdout",
       "text": [
        " 11 , sigma:  0.03 , C:  0.1 , error:  0.075\n",
        "trial "
       ]
      },
      {
       "output_type": "stream",
       "stream": "stdout",
       "text": [
        " 12 , sigma:  0.03 , C:  0.3 , error:  0.08\n",
        "trial "
       ]
      },
      {
       "output_type": "stream",
       "stream": "stdout",
       "text": [
        " 13 , sigma:  0.03 , C:  1 , error:  0.14\n",
        "trial "
       ]
      },
      {
       "output_type": "stream",
       "stream": "stdout",
       "text": [
        " 14 , sigma:  0.03 , C:  3 , error:  0.165\n",
        "trial "
       ]
      },
      {
       "output_type": "stream",
       "stream": "stdout",
       "text": [
        " 15 , sigma:  0.03 , C:  10 , error:  0.175\n",
        "trial "
       ]
      },
      {
       "output_type": "stream",
       "stream": "stdout",
       "text": [
        " 16 , sigma:  0.03 , C:  30 , error:  0.175\n",
        "trial "
       ]
      },
      {
       "output_type": "stream",
       "stream": "stdout",
       "text": [
        " 17 , sigma:  0.1 , C:  0.01 , error:  0.075\n",
        "trial "
       ]
      },
      {
       "output_type": "stream",
       "stream": "stdout",
       "text": [
        " 18 , sigma:  0.1 , C:  0.03 , error:  0.065\n",
        "trial "
       ]
      },
      {
       "output_type": "stream",
       "stream": "stdout",
       "text": [
        " 19 , sigma:  0.1 , C:  0.1 , error:  0.04\n",
        "trial "
       ]
      },
      {
       "output_type": "stream",
       "stream": "stdout",
       "text": [
        " 20 , sigma:  0.1 , C:  0.3 , error:  0.045\n",
        "trial "
       ]
      },
      {
       "output_type": "stream",
       "stream": "stdout",
       "text": [
        " 21 , sigma:  0.1 , C:  1 , error:  0.045\n",
        "trial "
       ]
      },
      {
       "output_type": "stream",
       "stream": "stdout",
       "text": [
        " 22 , sigma:  0.1 , C:  3 , error:  0.055\n",
        "trial "
       ]
      },
      {
       "output_type": "stream",
       "stream": "stdout",
       "text": [
        " 23 , sigma:  0.1 , C:  10 , error:  0.09\n",
        "trial "
       ]
      },
      {
       "output_type": "stream",
       "stream": "stdout",
       "text": [
        " 24 , sigma:  0.1 , C:  30 , error:  0.105\n",
        "trial "
       ]
      },
      {
       "output_type": "stream",
       "stream": "stdout",
       "text": [
        " 25 , sigma:  0.3 , C:  0.01 , error:  0.185\n",
        "trial "
       ]
      },
      {
       "output_type": "stream",
       "stream": "stdout",
       "text": [
        " 26 , sigma:  0.3 , C:  0.03 , error:  0.14\n",
        "trial "
       ]
      },
      {
       "output_type": "stream",
       "stream": "stdout",
       "text": [
        " 27 , sigma:  0.3 , C:  0.1 , error:  0.075\n",
        "trial "
       ]
      },
      {
       "output_type": "stream",
       "stream": "stdout",
       "text": [
        " 28 , sigma:  0.3 , C:  0.3 , error:  0.055\n",
        "trial "
       ]
      },
      {
       "output_type": "stream",
       "stream": "stdout",
       "text": [
        " 29 , sigma:  0.3 , C:  1 , error:  0.06\n",
        "trial "
       ]
      },
      {
       "output_type": "stream",
       "stream": "stdout",
       "text": [
        " 30 , sigma:  0.3 , C:  3 , error:  0.055\n",
        "trial "
       ]
      },
      {
       "output_type": "stream",
       "stream": "stdout",
       "text": [
        " 31 , sigma:  0.3 , C:  10 , error:  0.055\n",
        "trial "
       ]
      },
      {
       "output_type": "stream",
       "stream": "stdout",
       "text": [
        " 32 , sigma:  0.3 , C:  30 , error:  0.055\n",
        "trial "
       ]
      },
      {
       "output_type": "stream",
       "stream": "stdout",
       "text": [
        " 33 , sigma:  1 , C:  0.01 , error:  0.2\n",
        "trial "
       ]
      },
      {
       "output_type": "stream",
       "stream": "stdout",
       "text": [
        " 34 , sigma:  1 , C:  0.03 , error:  0.16\n",
        "trial "
       ]
      },
      {
       "output_type": "stream",
       "stream": "stdout",
       "text": [
        " 35 , sigma:  1 , C:  0.1 , error:  0.09\n",
        "trial "
       ]
      },
      {
       "output_type": "stream",
       "stream": "stdout",
       "text": [
        " 36 , sigma:  1 , C:  0.3 , error:  0.085\n",
        "trial "
       ]
      },
      {
       "output_type": "stream",
       "stream": "stdout",
       "text": [
        " 37 , sigma:  1 , C:  1 , error:  0.085\n",
        "trial "
       ]
      },
      {
       "output_type": "stream",
       "stream": "stdout",
       "text": [
        " 38 , sigma:  1 , C:  3 , error:  0.08\n",
        "trial "
       ]
      },
      {
       "output_type": "stream",
       "stream": "stdout",
       "text": [
        " 39 , sigma:  1 , C:  10 , error:  0.06\n",
        "trial "
       ]
      },
      {
       "output_type": "stream",
       "stream": "stdout",
       "text": [
        " 40 , sigma:  1 , C:  30 , error:  0.055\n",
        "trial "
       ]
      },
      {
       "output_type": "stream",
       "stream": "stdout",
       "text": [
        " 41 , sigma:  3 , C:  0.01 , error:  0.2\n",
        "trial "
       ]
      },
      {
       "output_type": "stream",
       "stream": "stdout",
       "text": [
        " 42 , sigma:  3 , C:  0.03 , error:  0.16\n",
        "trial "
       ]
      },
      {
       "output_type": "stream",
       "stream": "stdout",
       "text": [
        " 43 , sigma:  3 , C:  0.1 , error:  0.09\n",
        "trial "
       ]
      },
      {
       "output_type": "stream",
       "stream": "stdout",
       "text": [
        " 44 , sigma:  3 , C:  0.3 , error:  0.085\n",
        "trial "
       ]
      },
      {
       "output_type": "stream",
       "stream": "stdout",
       "text": [
        " 45 , sigma:  3 , C:  1 , error:  0.085\n",
        "trial "
       ]
      },
      {
       "output_type": "stream",
       "stream": "stdout",
       "text": [
        " 46 , sigma:  3 , C:  3 , error:  0.08\n",
        "trial "
       ]
      },
      {
       "output_type": "stream",
       "stream": "stdout",
       "text": [
        " 47 , sigma:  3 , C:  10 , error:  0.06\n",
        "trial "
       ]
      },
      {
       "output_type": "stream",
       "stream": "stdout",
       "text": [
        " 48 , sigma:  3 , C:  30 , error:  0.06\n",
        "trial "
       ]
      },
      {
       "output_type": "stream",
       "stream": "stdout",
       "text": [
        " 49 , sigma:  10 , C:  0.01 , error:  0.2\n",
        "trial "
       ]
      },
      {
       "output_type": "stream",
       "stream": "stdout",
       "text": [
        " 50 , sigma:  10 , C:  0.03 , error:  0.16\n",
        "trial "
       ]
      },
      {
       "output_type": "stream",
       "stream": "stdout",
       "text": [
        " 51 , sigma:  10 , C:  0.1 , error:  0.09\n",
        "trial "
       ]
      },
      {
       "output_type": "stream",
       "stream": "stdout",
       "text": [
        " 52 , sigma:  10 , C:  0.3 , error:  0.085\n",
        "trial "
       ]
      },
      {
       "output_type": "stream",
       "stream": "stdout",
       "text": [
        " 53 , sigma:  10 , C:  1 , error:  0.085\n",
        "trial "
       ]
      },
      {
       "output_type": "stream",
       "stream": "stdout",
       "text": [
        " 54 , sigma:  10 , C:  3 , error:  0.08\n",
        "trial "
       ]
      },
      {
       "output_type": "stream",
       "stream": "stdout",
       "text": [
        " 55 , sigma:  10 , C:  10 , error:  0.06\n",
        "trial "
       ]
      },
      {
       "output_type": "stream",
       "stream": "stdout",
       "text": [
        " 56 , sigma:  10 , C:  30 , error:  0.06\n",
        "trial "
       ]
      },
      {
       "output_type": "stream",
       "stream": "stdout",
       "text": [
        " 57 , sigma:  30 , C:  0.01 , error:  0.2\n",
        "trial "
       ]
      },
      {
       "output_type": "stream",
       "stream": "stdout",
       "text": [
        " 58 , sigma:  30 , C:  0.03 , error:  0.16\n",
        "trial "
       ]
      },
      {
       "output_type": "stream",
       "stream": "stdout",
       "text": [
        " 59 , sigma:  30 , C:  0.1 , error:  0.09\n",
        "trial "
       ]
      },
      {
       "output_type": "stream",
       "stream": "stdout",
       "text": [
        " 60 , sigma:  30 , C:  0.3 , error:  0.085\n",
        "trial "
       ]
      },
      {
       "output_type": "stream",
       "stream": "stdout",
       "text": [
        " 61 , sigma:  30 , C:  1 , error:  0.085\n",
        "trial "
       ]
      },
      {
       "output_type": "stream",
       "stream": "stdout",
       "text": [
        " 62 , sigma:  30 , C:  3 , error:  0.08\n",
        "trial "
       ]
      },
      {
       "output_type": "stream",
       "stream": "stdout",
       "text": [
        " 63 , sigma:  30 , C:  10 , error:  0.065\n",
        "trial "
       ]
      },
      {
       "output_type": "stream",
       "stream": "stdout",
       "text": [
        " 64 , sigma:  30 , C:  30 , error:  0.06\n"
       ]
      },
      {
       "metadata": {},
       "output_type": "display_data",
       "png": "[encoded data removed]",
       "text": [
        "<matplotlib.figure.Figure at 0x7f9bde0d5cd0>"
       ]
      }
     ],
     "prompt_number": 71
    },
    {
     "cell_type": "code",
     "collapsed": true,
     "input": [
      "# TODO: make sure you put in the best_C and best_sigma from the analysis above!\n",
      "\n",
      "\n",
      "best_C = 0.1\n",
      "best_sigma = 0.1\n",
      "\n",
      "# train an SVM on (X,y) with best_C and best_sigma\n",
      "best_svm = LinearSVM_twoclass()\n",
      "\n",
      "############################################################################\n",
      "# TODO: construct the Gram matrix of the data with best_sigma, scale it, add the column of ones\n",
      "# Then use svm_train to train best_svm with the best_C parameter. Use 20,000 iterations and\n",
      "# a learning rate of 1e-4. Use batch_size of the entire training data set.\n",
      "# About 5-6 lines of code expected here.\n",
      "############################################################################\n",
      "K = np.array([utils.gaussian_kernel(x1,x2,best_sigma) for x1 in X for x2 in X]).reshape(X.shape[0],X.shape[0])\n",
      "scaler = preprocessing.StandardScaler().fit(K)\n",
      "scaleK = scaler.transform(K)\n",
      "KK = np.vstack([np.ones((scaleK.shape[0],)),scaleK.T]).T\n",
      "best_svm.theta = np.zeros((KK.shape[1],))\n",
      "best_svm.train(KK,yy,learning_rate=1e-4,reg=best_C,num_iters=20000,verbose=False,batch_size=KK.shape[0])\n",
      "############################################################################\n",
      "#       END OF YOUR CODE                                                   #\n",
      "############################################################################\n",
      "\n",
      "# visualize the boundary (uncomment this line after you learn the best svm)\n",
      "\n",
      "utils.plot_decision_kernel_boundary(X,y,scaler,best_sigma,best_svm,'','',['neg','pos'])"
     ],
     "language": "python",
     "metadata": {},
     "outputs": [
      {
       "metadata": {},
       "output_type": "display_data",
       "png": "[encoded data removed]",
       "text": [
        "<matplotlib.figure.Figure at 0x7f9bdfcedfd0>"
       ]
      }
     ],
     "prompt_number": 75
    },
    {
     "cell_type": "code",
     "collapsed": false,
     "input": [],
     "language": "python",
     "metadata": {},
     "outputs": []
    }
   ],
   "metadata": {}
  }
 ]
}